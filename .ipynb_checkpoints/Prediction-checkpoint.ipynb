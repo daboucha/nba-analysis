{
 "cells": [
  {
   "cell_type": "code",
   "execution_count": 1,
   "id": "c1cafa1d",
   "metadata": {},
   "outputs": [],
   "source": [
    "# Import dependencies\n",
    "import os\n",
    "import pandas as pd\n",
    "import joblib\n",
    "\n",
    "pd.set_option(\"display.max_rows\", None, \"display.max_columns\", None)"
   ]
  },
  {
   "cell_type": "code",
   "execution_count": 2,
   "id": "9dc1e1d2",
   "metadata": {},
   "outputs": [],
   "source": [
    "def createTeamAverages(roster):\n",
    "    # Normalize team stats to 240 minutes per game\n",
    "    factor = calculatePerMinuteFactor(roster)\n",
    "\n",
    "    totals = player_totals_df.loc[roster].reset_index(drop=True)\n",
    "    g = totals[\"G\"]\n",
    "\n",
    "    totals = totals.drop(columns=[\"MP\", \"G\"])\n",
    "\n",
    "    for col in totals:\n",
    "        totals[col] = totals[col]/g*factor\n",
    "\n",
    "    team_averages = pd.DataFrame([totals.sum()])\n",
    "                             \n",
    "    return team_averages"
   ]
  },
  {
   "cell_type": "code",
   "execution_count": 3,
   "id": "87e1bdc1",
   "metadata": {},
   "outputs": [],
   "source": [
    "def calculatePerMinuteFactor(roster):\n",
    "    team_totals = player_totals_df.loc[roster].reset_index(drop=True)\n",
    "    player_games = team_totals[\"G\"]\n",
    "    player_minutes = team_totals[\"MP\"]\n",
    "\n",
    "    team_minutes = player_minutes/player_games\n",
    "    team_minutes = team_minutes.sum()\n",
    "    \n",
    "    if team_minutes != 240:\n",
    "        factor = 240/team_minutes\n",
    "    else:\n",
    "        factor = 1\n",
    "    \n",
    "    return factor"
   ]
  },
  {
   "cell_type": "code",
   "execution_count": 7,
   "id": "fff46fb6",
   "metadata": {},
   "outputs": [],
   "source": [
    "# Import player_totals dataframe\n",
    "file_dir = os.path.join(\"data\", \"player_totals.csv\")\n",
    "player_totals_df = pd.read_csv(file_dir).set_index('Player')"
   ]
  },
  {
   "cell_type": "code",
   "execution_count": 13,
   "id": "06adcaa3",
   "metadata": {},
   "outputs": [],
   "source": [
    "file_dir = os.path.join(\"data\", \"team_rosters.csv\")\n",
    "team_rosters = pd.read_csv(file_dir)"
   ]
  },
  {
   "cell_type": "code",
   "execution_count": 14,
   "id": "c4500688",
   "metadata": {},
   "outputs": [],
   "source": [
    "# Testing function for all team rosters\n",
    "file_dir = os.path.join(\"data\", \"team_rosters.csv\")\n",
    "team_rosters = pd.read_csv(file_dir)\n",
    "\n",
    "team_averages = {}\n",
    "\n",
    "for team in team_rosters[\"Team\"].unique():\n",
    "    team_averages[team] = createTeamAverages(list(team_rosters[\"Player\"].loc[team_rosters[\"Team\"]==team]))"
   ]
  },
  {
   "cell_type": "code",
   "execution_count": 15,
   "id": "177e99af",
   "metadata": {},
   "outputs": [],
   "source": [
    "# Testing linear regression model using full team roster data\n",
    "file_dir = os.path.join(\"model\", \"mlr_model.sav\")\n",
    "mlr_model = joblib.load(file_dir)"
   ]
  },
  {
   "cell_type": "code",
   "execution_count": 18,
   "id": "880613e4",
   "metadata": {},
   "outputs": [],
   "source": [
    "team = \"HOU\"\n",
    "X = team_averages[team]"
   ]
  },
  {
   "cell_type": "code",
   "execution_count": 19,
   "id": "01381c91",
   "metadata": {},
   "outputs": [
    {
     "data": {
      "text/plain": [
       "array([113.72997919])"
      ]
     },
     "execution_count": 19,
     "metadata": {},
     "output_type": "execute_result"
    }
   ],
   "source": [
    "y_pred = mlr_model.predict(X)\n",
    "y_pred"
   ]
  },
  {
   "cell_type": "code",
   "execution_count": null,
   "id": "7678cc85",
   "metadata": {},
   "outputs": [],
   "source": []
  }
 ],
 "metadata": {
  "kernelspec": {
   "display_name": "PythonData",
   "language": "python",
   "name": "pythondata"
  },
  "language_info": {
   "codemirror_mode": {
    "name": "ipython",
    "version": 3
   },
   "file_extension": ".py",
   "mimetype": "text/x-python",
   "name": "python",
   "nbconvert_exporter": "python",
   "pygments_lexer": "ipython3",
   "version": "3.9.4"
  }
 },
 "nbformat": 4,
 "nbformat_minor": 5
}
