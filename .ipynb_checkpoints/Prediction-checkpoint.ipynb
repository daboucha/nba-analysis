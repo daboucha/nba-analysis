{
 "cells": [
  {
   "cell_type": "code",
   "execution_count": 1,
   "id": "a7fac693",
   "metadata": {},
   "outputs": [],
   "source": [
    "# Import dependencies\n",
    "import os\n",
    "import pandas as pd\n",
    "import joblib\n",
    "\n",
    "pd.set_option(\"display.max_rows\", None, \"display.max_columns\", None)"
   ]
  },
  {
   "cell_type": "code",
   "execution_count": 2,
   "id": "ee960876",
   "metadata": {},
   "outputs": [],
   "source": [
    "def createTeamAverages(roster):\n",
    "    # Normalize team stats to 240 minutes per game\n",
    "    factor = calculatePerMinuteFactor(roster)\n",
    "\n",
    "    totals = player_totals_df.loc[roster].reset_index(drop=True)\n",
    "    g = totals[\"G\"]\n",
    "\n",
    "    totals = totals.drop(columns=[\"MP\", \"G\"])\n",
    "\n",
    "    for col in totals:\n",
    "        totals[col] = totals[col]/g*factor\n",
    "\n",
    "    team_averages = pd.DataFrame([totals.sum()])\n",
    "                             \n",
    "    return team_averages"
   ]
  },
  {
   "cell_type": "code",
   "execution_count": 3,
   "id": "aaa8976f",
   "metadata": {},
   "outputs": [],
   "source": [
    "def calculatePerMinuteFactor(roster):\n",
    "    team_totals = player_totals_df.loc[roster].reset_index(drop=True)\n",
    "    player_games = team_totals[\"G\"]\n",
    "    player_minutes = team_totals[\"MP\"]\n",
    "\n",
    "    team_minutes = player_minutes/player_games\n",
    "    team_minutes = team_minutes.sum()\n",
    "    \n",
    "    if team_minutes != 240:\n",
    "        factor = 240/team_minutes\n",
    "    else:\n",
    "        factor = 1\n",
    "    \n",
    "    return factor"
   ]
  },
  {
   "cell_type": "code",
   "execution_count": 7,
   "id": "4f425244",
   "metadata": {},
   "outputs": [],
   "source": [
    "# Import player_totals dataframe\n",
    "file_dir = os.path.join(\"data\", \"player_totals.csv\")\n",
    "player_totals_df = pd.read_csv(file_dir).set_index('Player')"
   ]
  },
  {
   "cell_type": "code",
   "execution_count": 9,
   "id": "80b9c0b9",
   "metadata": {},
   "outputs": [
    {
     "data": {
      "text/html": [
       "<div>\n",
       "<style scoped>\n",
       "    .dataframe tbody tr th:only-of-type {\n",
       "        vertical-align: middle;\n",
       "    }\n",
       "\n",
       "    .dataframe tbody tr th {\n",
       "        vertical-align: top;\n",
       "    }\n",
       "\n",
       "    .dataframe thead th {\n",
       "        text-align: right;\n",
       "    }\n",
       "</style>\n",
       "<table border=\"1\" class=\"dataframe\">\n",
       "  <thead>\n",
       "    <tr style=\"text-align: right;\">\n",
       "      <th></th>\n",
       "      <th>Player</th>\n",
       "      <th>Team</th>\n",
       "    </tr>\n",
       "  </thead>\n",
       "  <tbody>\n",
       "    <tr>\n",
       "      <th>0</th>\n",
       "      <td>Trae Young</td>\n",
       "      <td>ATL</td>\n",
       "    </tr>\n",
       "    <tr>\n",
       "      <th>1</th>\n",
       "      <td>John Collins</td>\n",
       "      <td>ATL</td>\n",
       "    </tr>\n",
       "    <tr>\n",
       "      <th>2</th>\n",
       "      <td>Delon Wright</td>\n",
       "      <td>ATL</td>\n",
       "    </tr>\n",
       "    <tr>\n",
       "      <th>3</th>\n",
       "      <td>Kevin Huerter</td>\n",
       "      <td>ATL</td>\n",
       "    </tr>\n",
       "    <tr>\n",
       "      <th>4</th>\n",
       "      <td>Clint Capela</td>\n",
       "      <td>ATL</td>\n",
       "    </tr>\n",
       "  </tbody>\n",
       "</table>\n",
       "</div>"
      ],
      "text/plain": [
       "          Player Team\n",
       "0     Trae Young  ATL\n",
       "1   John Collins  ATL\n",
       "2   Delon Wright  ATL\n",
       "3  Kevin Huerter  ATL\n",
       "4   Clint Capela  ATL"
      ]
     },
     "execution_count": 9,
     "metadata": {},
     "output_type": "execute_result"
    }
   ],
   "source": [
    "file_dir = os.path.join(\"data\", \"team_rosters.csv\")\n",
    "team_rosters = pd.read_csv(file_dir)\n",
    "team_rosters.head()"
   ]
  },
  {
   "cell_type": "code",
   "execution_count": 5,
   "id": "171bf87c",
   "metadata": {},
   "outputs": [
    {
     "ename": "NameError",
     "evalue": "name 'team_rosters' is not defined",
     "output_type": "error",
     "traceback": [
      "\u001b[1;31m---------------------------------------------------------------------------\u001b[0m",
      "\u001b[1;31mNameError\u001b[0m                                 Traceback (most recent call last)",
      "\u001b[1;32m<ipython-input-5-4e7001e3686c>\u001b[0m in \u001b[0;36m<module>\u001b[1;34m\u001b[0m\n\u001b[0;32m      2\u001b[0m \u001b[0mteam_averages\u001b[0m \u001b[1;33m=\u001b[0m \u001b[1;33m{\u001b[0m\u001b[1;33m}\u001b[0m\u001b[1;33m\u001b[0m\u001b[1;33m\u001b[0m\u001b[0m\n\u001b[0;32m      3\u001b[0m \u001b[1;33m\u001b[0m\u001b[0m\n\u001b[1;32m----> 4\u001b[1;33m \u001b[1;32mfor\u001b[0m \u001b[0mteam\u001b[0m \u001b[1;32min\u001b[0m \u001b[0mteam_rosters\u001b[0m\u001b[1;33m:\u001b[0m\u001b[1;33m\u001b[0m\u001b[1;33m\u001b[0m\u001b[0m\n\u001b[0m\u001b[0;32m      5\u001b[0m     \u001b[0mteam_averages\u001b[0m\u001b[1;33m[\u001b[0m\u001b[0mteam\u001b[0m\u001b[1;33m]\u001b[0m \u001b[1;33m=\u001b[0m \u001b[0mcreateTeamAverages\u001b[0m\u001b[1;33m(\u001b[0m\u001b[0mteam_rosters\u001b[0m\u001b[1;33m[\u001b[0m\u001b[0mteam\u001b[0m\u001b[1;33m]\u001b[0m\u001b[1;33m)\u001b[0m\u001b[1;33m\u001b[0m\u001b[1;33m\u001b[0m\u001b[0m\n",
      "\u001b[1;31mNameError\u001b[0m: name 'team_rosters' is not defined"
     ]
    }
   ],
   "source": [
    "# Testing function for all team rosters\n",
    "file_dir = os.path.join(\"data\", \"team_rosters.csv\")\n",
    "team_rosters = pd.read_csv(file_dir)\n",
    "\n",
    "team_averages = {}\n",
    "\n",
    "for team in team_rosters:\n",
    "    team_averages[team] = createTeamAverages(list(team_rosters.loc[team_rosters[\"Team\"]==team]))"
   ]
  },
  {
   "cell_type": "code",
   "execution_count": null,
   "id": "543a5b5f",
   "metadata": {},
   "outputs": [],
   "source": [
    "# Testing linear regression model using full team roster data\n",
    "file_dir = os.path.join(\"model\", \"mlr_model.sav\")\n",
    "mlr_model = joblib.load(file_dir)"
   ]
  },
  {
   "cell_type": "code",
   "execution_count": null,
   "id": "c6eaa2ee",
   "metadata": {},
   "outputs": [],
   "source": [
    "team = \"HOU\"\n",
    "team_averages = createTeamAverages(team_rosters[team])\n",
    "X = team_averages"
   ]
  },
  {
   "cell_type": "code",
   "execution_count": null,
   "id": "6f89b664",
   "metadata": {},
   "outputs": [],
   "source": [
    "y_pred = mlr_model.predict(X)\n",
    "y_pred"
   ]
  }
 ],
 "metadata": {
  "kernelspec": {
   "display_name": "PythonData",
   "language": "python",
   "name": "pythondata"
  },
  "language_info": {
   "codemirror_mode": {
    "name": "ipython",
    "version": 3
   },
   "file_extension": ".py",
   "mimetype": "text/x-python",
   "name": "python",
   "nbconvert_exporter": "python",
   "pygments_lexer": "ipython3",
   "version": "3.9.4"
  }
 },
 "nbformat": 4,
 "nbformat_minor": 5
}
