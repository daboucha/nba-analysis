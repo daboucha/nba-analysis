{
 "cells": [
  {
   "cell_type": "code",
   "execution_count": 1,
   "id": "766a4115",
   "metadata": {},
   "outputs": [],
   "source": [
    "# Import dependencies\n",
    "import os\n",
    "import pandas as pd\n",
    "import requests\n",
    "import joblib\n",
    "from bs4 import BeautifulSoup\n",
    "from datetime import datetime\n",
    "from nba_api.stats.static import teams\n",
    "from nba_api.stats.endpoints import leaguegamefinder\n",
    "\n",
    "pd.set_option(\"display.max_rows\", None, \"display.max_columns\", None)"
   ]
  },
  {
   "cell_type": "code",
   "execution_count": 2,
   "id": "a723ca1c",
   "metadata": {},
   "outputs": [],
   "source": [
    "def createPlayerDF(stat, year):\n",
    "    # Set url for given year\n",
    "    url = f'https://www.basketball-reference.com/leagues/NBA_{year}_{stat}.html'\n",
    "    page = requests.get(url)\n",
    "    \n",
    "    # Convert the page html to a soup object\n",
    "    soup = BeautifulSoup(page.content, 'html.parser')\n",
    "    \n",
    "    # Find the sought after table of data\n",
    "    table = soup.find_all(class_=\"full_table\")\n",
    "\n",
    "    # Store the headers/column names\n",
    "    head = soup.find(class_=\"thead\")\n",
    "    column_names_raw = [head.text for item in head][0]\n",
    "\n",
    "    # Clean the column_names_raw list\n",
    "    column_names = column_names_raw.replace(\"\\n\",\",\").split(\",\")[2:-1]\n",
    "    \n",
    "    # Create the dataframe\n",
    "    players = []\n",
    "\n",
    "    for i in range(len(table)):\n",
    "        player_ = []\n",
    "\n",
    "        for td in table[i].find_all(\"td\"):\n",
    "            player_.append(td.text)\n",
    "\n",
    "        players.append(player_)\n",
    "\n",
    "    df = pd.DataFrame(players, columns=column_names).set_index(\"Player\")\n",
    "\n",
    "    # Cleaning the player's name from occasional special characters\n",
    "    df.index = df.index.str.replace('*', \"\", regex=True)\n",
    "    \n",
    "    return df"
   ]
  },
  {
   "cell_type": "code",
   "execution_count": 4,
   "id": "90a6bac3",
   "metadata": {},
   "outputs": [],
   "source": [
    "def createRosters(team):\n",
    "    roster = []\n",
    "\n",
    "    # Set url for given team\n",
    "    url = f\"https://www.basketball-reference.com/teams/{team}/{datetime.now().year}.html\"\n",
    "    page = requests.get(url)\n",
    "\n",
    "    # Convert the page html to a soup object\n",
    "    soup = BeautifulSoup(page.content, 'html.parser')\n",
    "\n",
    "    # Find the sought after table of data\n",
    "    table = soup.find(id=\"roster\")\n",
    "    player_table = table.find_all(attrs={\"data-stat\" : \"player\"})\n",
    "\n",
    "    # Create a list of all players in the player table\n",
    "    for p in player_table[1:]:\n",
    "        roster.append(p.text)\n",
    "\n",
    "    # Remove \"TW\" suffix\n",
    "    for i in range(len(roster)):\n",
    "        if \"\\xa0\\xa0(TW)\" in roster[i]:\n",
    "            roster[i] = roster[i].replace(\"\\xa0\\xa0(TW)\", \"\")\n",
    "\n",
    "    return roster"
   ]
  },
  {
   "cell_type": "code",
   "execution_count": 5,
   "id": "409a53ba",
   "metadata": {},
   "outputs": [],
   "source": [
    "def createPlayerTotals(df):\n",
    "    # Drop categorical and unnecessary columns\n",
    "    columns_to_drop=[\"Pos\", \"Age\", \"Tm\", \"GS\", \"FG\", \"FG%\", \"3P\", \"3P%\", \"2P\", \"2PA\", \"2P%\", \"eFG%\", \"FT\", \"FT%\", \"TRB\", \"PTS\"]\n",
    "    df = df.drop(columns=columns_to_drop)\n",
    "\n",
    "    # Convert data to numeric instead of object\n",
    "    df = df.astype(float)\n",
    "    \n",
    "    return df"
   ]
  },
  {
   "cell_type": "code",
   "execution_count": 237,
   "id": "2fe7498b",
   "metadata": {},
   "outputs": [],
   "source": [
    "def createTeamAverages(roster):\n",
    "    # Normalize team stats to 240 minutes per game\n",
    "    factor = calculatePerMinuteFactor(roster)\n",
    "\n",
    "    totals = player_totals_df.loc[roster].reset_index(drop=True)\n",
    "    g = totals[\"G\"]\n",
    "\n",
    "    totals = totals.drop(columns=[\"MP\", \"G\"])\n",
    "\n",
    "    for col in totals:\n",
    "        totals[col] = totals[col]/g*factor\n",
    "\n",
    "    team_averages = pd.DataFrame([totals.sum()])\n",
    "                             \n",
    "    return team_averages"
   ]
  },
  {
   "cell_type": "code",
   "execution_count": 236,
   "id": "9cf7b0a1",
   "metadata": {},
   "outputs": [],
   "source": [
    "def calculatePerMinuteFactor(roster):\n",
    "    team_totals = player_totals_df.loc[roster].reset_index(drop=True)\n",
    "    player_games = team_totals[\"G\"]\n",
    "    player_minutes = team_totals[\"MP\"]\n",
    "\n",
    "    team_minutes = player_minutes/player_games\n",
    "    team_minutes = team_minutes.sum()\n",
    "    \n",
    "    if team_minutes != 240:\n",
    "        factor = 240/team_minutes\n",
    "    else:\n",
    "        factor = 1\n",
    "    \n",
    "    return factor"
   ]
  },
  {
   "cell_type": "code",
   "execution_count": 8,
   "id": "cdf1f348",
   "metadata": {},
   "outputs": [],
   "source": [
    "# Get nba players data into dataframes from the year 2016 - present\n",
    "currentYear = datetime.now().year\n",
    "startYear = 2016\n",
    "year_totals = {}\n",
    "\n",
    "for year in range(startYear, currentYear+1):\n",
    "    year_totals[year] = createPlayerDF('totals', str(year))"
   ]
  },
  {
   "cell_type": "code",
   "execution_count": 9,
   "id": "69d6d27c",
   "metadata": {
    "scrolled": true
   },
   "outputs": [],
   "source": [
    "# Get nba team rosters into dataframes\n",
    "nba_teams = teams.get_teams()\n",
    "nba_team_abr = [team['abbreviation'] for team in nba_teams]\n",
    "team_rosters = {}\n",
    "\n",
    "# Convert abreviation for Brooklyn, Pheonix, & Charlotte for basketball-reference.com\n",
    "nba_team_abr[14] = \"BRK\"\n",
    "nba_team_abr[19] = \"PHO\"\n",
    "nba_team_abr[29] = \"CHO\"\n",
    "\n",
    "for team in nba_team_abr:\n",
    "    team_rosters[team] = createRosters(team)"
   ]
  },
  {
   "cell_type": "code",
   "execution_count": 10,
   "id": "b184469d",
   "metadata": {},
   "outputs": [],
   "source": [
    "# Create dataframe for each player's stats over the last 5 years\n",
    "currentYear = datetime.now().year\n",
    "num_years = 5\n",
    "player_totals = {}\n",
    "\n",
    "for team in team_rosters.values():\n",
    "    for player in team:\n",
    "        # Initializing\n",
    "        player_totals[player] = [0,0,0,0,0,0,0,0,0,0,0,0]\n",
    "\n",
    "        for i in range(0, num_years+1):\n",
    "            if player in year_totals[currentYear-i].index:\n",
    "                player_totals[player] += createPlayerTotals(year_totals[currentYear-i]).loc[player]            "
   ]
  },
  {
   "cell_type": "code",
   "execution_count": 154,
   "id": "206b4abb",
   "metadata": {
    "scrolled": true
   },
   "outputs": [],
   "source": [
    "# Create a dataframe for each teams per minute average based on current roster\n",
    "team_averages = {}\n",
    "\n",
    "for team in team_rosters:\n",
    "    team_averages[team] = createTeamAverages(team_rosters[team], player_totals)"
   ]
  },
  {
   "cell_type": "code",
   "execution_count": 65,
   "id": "7c532542",
   "metadata": {},
   "outputs": [],
   "source": [
    "# Convert year totals dictionary to dataframe and save as csv\n",
    "dfs = []\n",
    "\n",
    "for year, df in year_totals.items():\n",
    "    temp_df = df\n",
    "    temp_df['Year'] = year\n",
    "    dfs.append(temp_df)\n",
    "    \n",
    "year_totals_df = pd.concat(dfs)\n",
    "year_totals_df = year_totals_df.reset_index()\n",
    "year_totals_df = year_totals_df.set_index([\"Year\", \"Player\"])\n",
    "\n",
    "file_dir = os.path.join(\"data\", \"year_totals.csv\")\n",
    "year_totals_df.to_csv(file_dir, encoding=\"utf-8-sig\")"
   ]
  },
  {
   "cell_type": "code",
   "execution_count": 66,
   "id": "7335e794",
   "metadata": {},
   "outputs": [],
   "source": [
    "# Convert team roster dictionary to dataframe and save as csv\n",
    "dfs = []\n",
    "\n",
    "for team, players in team_rosters.items():\n",
    "    temp_df = pd.DataFrame(players, columns=[\"Player\"])\n",
    "    temp_df['Team'] = team\n",
    "    dfs.append(temp_df)\n",
    "    \n",
    "team_rosters_df = pd.concat(dfs)\n",
    "team_rosters_df = team_rosters_df.set_index(\"Player\")\n",
    "\n",
    "file_dir = os.path.join(\"data\", \"team_rosters.csv\")\n",
    "team_rosters_df.to_csv(file_dir, encoding=\"utf-8-sig\")"
   ]
  },
  {
   "cell_type": "code",
   "execution_count": 207,
   "id": "8b42a032",
   "metadata": {
    "scrolled": true
   },
   "outputs": [],
   "source": [
    "# Convert player totals dictionary to dataframe and save as csv\n",
    "dfs = []\n",
    "\n",
    "for player, stats in player_totals.items():\n",
    "    if stats[0] > 0:\n",
    "        temp_df = pd.DataFrame([stats])\n",
    "    else:\n",
    "        temp_df = pd.DataFrame({\"G\": 0, \"MP\": 0, \"FGA\": 0, \"3PA\": 0, \"FTA\": 0, \"ORB\": 0, \"DRB\": 0, \"AST\": 0, \"STL\": 0, \"BLK\": 0, \"TOV\": 0, \"PF\": 0,}, index=[player])\n",
    "    dfs.append(temp_df)\n",
    "    \n",
    "player_totals_df = pd.concat(dfs)\n",
    "player_totals_df.index.name = \"Player\"\n",
    "\n",
    "file_dir = os.path.join(\"data\", \"player_totals.csv\")\n",
    "player_totals_df.to_csv(file_dir, encoding=\"utf-8-sig\")"
   ]
  },
  {
   "cell_type": "code",
   "execution_count": 159,
   "id": "d7f5e5b6",
   "metadata": {},
   "outputs": [],
   "source": [
    "# Testing linear regression model using full team roster data\n",
    "file_dir = os.path.join(\"model\", \"mlr_model.sav\")\n",
    "mlr_model = joblib.load(file_dir)"
   ]
  },
  {
   "cell_type": "code",
   "execution_count": 239,
   "id": "13e2006a",
   "metadata": {},
   "outputs": [],
   "source": [
    "team = \"TOR\"\n",
    "team_averages = createTeamAverages(team_rosters[team])\n",
    "X = team_averages"
   ]
  },
  {
   "cell_type": "code",
   "execution_count": 240,
   "id": "a743d8f4",
   "metadata": {},
   "outputs": [
    {
     "data": {
      "text/plain": [
       "array([99.75648711])"
      ]
     },
     "execution_count": 240,
     "metadata": {},
     "output_type": "execute_result"
    }
   ],
   "source": [
    "y_pred = mlr_model.predict(X)\n",
    "y_pred"
   ]
  },
  {
   "cell_type": "code",
   "execution_count": null,
   "id": "80dec74f",
   "metadata": {},
   "outputs": [],
   "source": []
  }
 ],
 "metadata": {
  "kernelspec": {
   "display_name": "PythonData",
   "language": "python",
   "name": "pythondata"
  },
  "language_info": {
   "codemirror_mode": {
    "name": "ipython",
    "version": 3
   },
   "file_extension": ".py",
   "mimetype": "text/x-python",
   "name": "python",
   "nbconvert_exporter": "python",
   "pygments_lexer": "ipython3",
   "version": "3.9.4"
  }
 },
 "nbformat": 4,
 "nbformat_minor": 5
}
