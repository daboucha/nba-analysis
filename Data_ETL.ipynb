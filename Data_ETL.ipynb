{
 "cells": [
  {
   "cell_type": "code",
   "execution_count": 23,
   "id": "766a4115",
   "metadata": {},
   "outputs": [],
   "source": [
    "# Import dependencies\n",
    "import os\n",
    "import pandas as pd\n",
    "import requests\n",
    "import json\n",
    "from bs4 import BeautifulSoup\n",
    "from datetime import datetime\n",
    "from nba_api.stats.static import teams\n",
    "from nba_api.stats.endpoints import leaguegamefinder\n",
    "\n",
    "pd.set_option(\"display.max_rows\", None, \"display.max_columns\", None)"
   ]
  },
  {
   "cell_type": "code",
   "execution_count": 18,
   "id": "a723ca1c",
   "metadata": {},
   "outputs": [],
   "source": [
    "def createPlayerDF(stat, year):\n",
    "    # Set url for given year\n",
    "    url = f'https://www.basketball-reference.com/leagues/NBA_{year}_{stat}.html'\n",
    "    page = requests.get(url)\n",
    "    \n",
    "    # Convert the page html to a soup object\n",
    "    soup = BeautifulSoup(page.content, 'html.parser')\n",
    "    \n",
    "    # Find the sought after table of data\n",
    "    table = soup.find_all(class_=\"full_table\")\n",
    "\n",
    "    # Store the headers/column names\n",
    "    head = soup.find(class_=\"thead\")\n",
    "    column_names_raw = [head.text for item in head][0]\n",
    "\n",
    "    # Clean the column_names_raw list\n",
    "    column_names = column_names_raw.replace(\"\\n\",\",\").split(\",\")[2:-1]\n",
    "    \n",
    "    # Create the dataframe\n",
    "    players = []\n",
    "\n",
    "    for i in range(len(table)):\n",
    "        player_ = []\n",
    "\n",
    "        for td in table[i].find_all(\"td\"):\n",
    "            player_.append(td.text)\n",
    "\n",
    "        players.append(player_)\n",
    "\n",
    "    df = pd.DataFrame(players, columns=column_names).set_index(\"Player\")\n",
    "\n",
    "    # Cleaning the player's name from occasional special characters\n",
    "    df.index = df.index.str.replace('*', \"\", regex=True)\n",
    "    \n",
    "    return df"
   ]
  },
  {
   "cell_type": "code",
   "execution_count": 19,
   "id": "90a6bac3",
   "metadata": {},
   "outputs": [],
   "source": [
    "def createRosters(team):\n",
    "    roster = []\n",
    "\n",
    "    # Set url for given team\n",
    "    url = f\"https://www.basketball-reference.com/teams/{team}/{datetime.now().year}.html\"\n",
    "    page = requests.get(url)\n",
    "\n",
    "    # Convert the page html to a soup object\n",
    "    soup = BeautifulSoup(page.content, 'html.parser')\n",
    "\n",
    "    # Find the sought after table of data\n",
    "    table = soup.find(id=\"roster\")\n",
    "    player_table = table.find_all(attrs={\"data-stat\" : \"player\"})\n",
    "\n",
    "    # Create a list of all players in the player table\n",
    "    for p in player_table[1:]:\n",
    "        roster.append(p.text)\n",
    "\n",
    "    # Remove \"TW\" suffix\n",
    "    for i in range(len(roster)):\n",
    "        if \"\\xa0\\xa0(TW)\" in roster[i]:\n",
    "            roster[i] = roster[i].replace(\"\\xa0\\xa0(TW)\", \"\")\n",
    "\n",
    "    return roster"
   ]
  },
  {
   "cell_type": "code",
   "execution_count": 20,
   "id": "409a53ba",
   "metadata": {},
   "outputs": [],
   "source": [
    "def createPlayerTotals(df):\n",
    "    # Drop categorical and unnecessary columns\n",
    "    columns_to_drop=[\"Pos\", \"Age\", \"Tm\", \"GS\", \"FG\", \"FG%\", \"3P\", \"3P%\", \"2P\", \"2PA\", \"2P%\", \"eFG%\", \"FT\", \"FT%\", \"TRB\", \"PTS\"]\n",
    "    df = df.drop(columns=columns_to_drop)\n",
    "\n",
    "    # Convert data to numeric instead of object\n",
    "    df = df.astype(float)\n",
    "    \n",
    "    return df"
   ]
  },
  {
   "cell_type": "code",
   "execution_count": 8,
   "id": "cdf1f348",
   "metadata": {},
   "outputs": [],
   "source": [
    "# Get nba players data into dataframes from the year 2016 - present\n",
    "currentYear = datetime.now().year\n",
    "startYear = 2016\n",
    "year_totals = {}\n",
    "\n",
    "for year in range(startYear, currentYear+1):\n",
    "    year_totals[year] = createPlayerDF('totals', str(year))"
   ]
  },
  {
   "cell_type": "code",
   "execution_count": 21,
   "id": "69d6d27c",
   "metadata": {
    "scrolled": true
   },
   "outputs": [],
   "source": [
    "# Get nba team rosters into dataframes\n",
    "nba_teams = teams.get_teams()\n",
    "nba_team_abr = [team['abbreviation'] for team in nba_teams]\n",
    "team_rosters = {}\n",
    "\n",
    "# Convert abreviation for Brooklyn, Pheonix, & Charlotte for basketball-reference.com\n",
    "nba_team_abr[14] = \"BRK\"\n",
    "nba_team_abr[19] = \"PHO\"\n",
    "nba_team_abr[29] = \"CHO\"\n",
    "\n",
    "for team in nba_team_abr:\n",
    "    team_rosters[team] = createRosters(team)"
   ]
  },
  {
   "cell_type": "code",
   "execution_count": 10,
   "id": "b184469d",
   "metadata": {},
   "outputs": [],
   "source": [
    "# Create dataframe for each player's stats over the last 5 years\n",
    "currentYear = datetime.now().year\n",
    "num_years = 5\n",
    "player_totals = {}\n",
    "\n",
    "for team in team_rosters.values():\n",
    "    for player in team:\n",
    "        # Initializing\n",
    "        player_totals[player] = [0,0,0,0,0,0,0,0,0,0,0,0]\n",
    "\n",
    "        for i in range(0, num_years+1):\n",
    "            if player in year_totals[currentYear-i].index:\n",
    "                player_totals[player] += createPlayerTotals(year_totals[currentYear-i]).loc[player]            "
   ]
  },
  {
   "cell_type": "code",
   "execution_count": 65,
   "id": "c63b8f9a",
   "metadata": {},
   "outputs": [],
   "source": [
    "# Convert year totals dictionary to dataframe and save as csv\n",
    "dfs = []\n",
    "\n",
    "for year, df in year_totals.items():\n",
    "    temp_df = df\n",
    "    temp_df['Year'] = year\n",
    "    dfs.append(temp_df)\n",
    "    \n",
    "year_totals_df = pd.concat(dfs)\n",
    "year_totals_df = year_totals_df.reset_index()\n",
    "year_totals_df = year_totals_df.set_index([\"Year\", \"Player\"])\n",
    "\n",
    "file_dir = os.path.join(\"data\", \"year_totals.csv\")\n",
    "year_totals_df.to_csv(file_dir, encoding=\"utf-8-sig\")"
   ]
  },
  {
   "cell_type": "code",
   "execution_count": null,
   "id": "3d3a524d",
   "metadata": {},
   "outputs": [],
   "source": [
    "# Save team roster dictionary as json\n",
    "with open(\"data/team_rosters.json\", \"w\", encoding=\"utf-8-sig\") as outfile:\n",
    "    json.dump(team_rosters, outfile, ensure_ascii=False)"
   ]
  },
  {
   "cell_type": "code",
   "execution_count": 66,
   "id": "ba62c8aa",
   "metadata": {},
   "outputs": [],
   "source": [
    "# Convert team roster dictionary to dataframe and save as csv\n",
    "dfs = []\n",
    "\n",
    "for team, players in team_rosters.items():\n",
    "    temp_df = pd.DataFrame(players, columns=[\"Player\"])\n",
    "    temp_df['Team'] = team\n",
    "    dfs.append(temp_df)\n",
    "    \n",
    "team_rosters_df = pd.concat(dfs)\n",
    "team_rosters_df = team_rosters_df.set_index(\"Player\")\n",
    "\n",
    "file_dir = os.path.join(\"data\", \"team_rosters.csv\")\n",
    "team_rosters_df.to_csv(file_dir, encoding=\"utf-8-sig\")"
   ]
  },
  {
   "cell_type": "code",
   "execution_count": 207,
   "id": "f9c0c66f",
   "metadata": {
    "scrolled": true
   },
   "outputs": [],
   "source": [
    "# Convert player totals dictionary to dataframe and save as csv\n",
    "dfs = []\n",
    "\n",
    "for player, stats in player_totals.items():\n",
    "    if stats[0] > 0:\n",
    "        temp_df = pd.DataFrame([stats])\n",
    "    else:\n",
    "        temp_df = pd.DataFrame({\"G\": 0, \"MP\": 0, \"FGA\": 0, \"3PA\": 0, \"FTA\": 0, \"ORB\": 0, \"DRB\": 0, \"AST\": 0, \"STL\": 0, \"BLK\": 0, \"TOV\": 0, \"PF\": 0,}, index=[player])\n",
    "    dfs.append(temp_df)\n",
    "    \n",
    "player_totals_df = pd.concat(dfs)\n",
    "player_totals_df.index.name = \"Player\"\n",
    "\n",
    "file_dir = os.path.join(\"data\", \"player_totals.csv\")\n",
    "player_totals_df.to_csv(file_dir, encoding=\"utf-8-sig\")"
   ]
  },
  {
   "cell_type": "code",
   "execution_count": null,
   "id": "57f91d37",
   "metadata": {},
   "outputs": [],
   "source": []
  }
 ],
 "metadata": {
  "kernelspec": {
   "display_name": "PythonData",
   "language": "python",
   "name": "pythondata"
  },
  "language_info": {
   "codemirror_mode": {
    "name": "ipython",
    "version": 3
   },
   "file_extension": ".py",
   "mimetype": "text/x-python",
   "name": "python",
   "nbconvert_exporter": "python",
   "pygments_lexer": "ipython3",
   "version": "3.9.4"
  }
 },
 "nbformat": 4,
 "nbformat_minor": 5
}
